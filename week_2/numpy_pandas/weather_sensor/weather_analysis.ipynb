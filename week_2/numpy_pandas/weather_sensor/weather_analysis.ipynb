{
 "cells": [
  {
   "cell_type": "code",
   "execution_count": null,
   "id": "initial_id",
   "metadata": {
    "collapsed": true
   },
   "outputs": [],
   "source": [
    "STUDENT_DATA = [\n",
    "    {'name': 'Joe Feldman', 'age': 16, \"score\": 84},\n",
    "    {'name': 'Kerri Lee', 'age': 15, \"score\": 89},\n",
    "    {'name': 'Tyke Myson', 'age': 17, \"score\": 73},\n",
    "    {'name': 'Corey Brent', 'age': 15, \"score\": 61},\n",
    "    {'name': 'Daylan Lewis', 'age': 15, \"score\": 78},\n",
    "]\n",
    "\n"
   ]
  }
 ],
 "metadata": {
  "kernelspec": {
   "display_name": "Python 3",
   "language": "python",
   "name": "python3"
  },
  "language_info": {
   "codemirror_mode": {
    "name": "ipython",
    "version": 2
   },
   "file_extension": ".py",
   "mimetype": "text/x-python",
   "name": "python",
   "nbconvert_exporter": "python",
   "pygments_lexer": "ipython2",
   "version": "2.7.6"
  }
 },
 "nbformat": 4,
 "nbformat_minor": 5
}
