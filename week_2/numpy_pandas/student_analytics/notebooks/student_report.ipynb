{
 "cells": [
  {
   "metadata": {},
   "cell_type": "markdown",
   "source": "### 1. Load and inspect data from csv",
   "id": "c327fb68ee9f8d7d"
  },
  {
   "metadata": {
    "ExecuteTime": {
     "end_time": "2025-09-14T00:44:40.361758Z",
     "start_time": "2025-09-14T00:44:39.881494Z"
    }
   },
   "cell_type": "code",
   "source": [
    "import pandas as pd\n",
    "import numpy as np\n",
    "student_data = pd.read_csv('../data/students.csv')\n",
    "# student_data.head()"
   ],
   "id": "2afcddb3cc719389",
   "outputs": [],
   "execution_count": 1
  },
  {
   "metadata": {},
   "cell_type": "markdown",
   "source": "### 2. Create DataFrame and add records",
   "id": "36b1db37ee951205"
  },
  {
   "metadata": {
    "ExecuteTime": {
     "end_time": "2025-09-14T00:45:03.853561Z",
     "start_time": "2025-09-14T00:45:03.849456Z"
    }
   },
   "cell_type": "code",
   "source": [
    "df = pd.DataFrame(student_data)\n",
    "\n",
    "df.loc[len(df)] = {\"Name\": \"Kevin\", \"Age\": 16, \"Grade\": \"B\", \"Score\": 80}\n",
    "df.loc[len(df)] = {\"Name\": \"Clarence\", \"Age\": 18, \"Grade\": np.nan, \"Score\": 72}\n",
    "df.loc[len(df)] = {\"Name\": \"Samantha\", \"Age\": 16, \"Grade\": \"B\", \"Score\": 84}\n",
    "\n",
    "df\n"
   ],
   "id": "1e694127950d3c7b",
   "outputs": [],
   "execution_count": 3
  },
  {
   "metadata": {},
   "cell_type": "markdown",
   "source": "### 1b. Split student data and add student_id column",
   "id": "8020cba96d365362"
  },
  {
   "metadata": {
    "ExecuteTime": {
     "end_time": "2025-09-14T00:45:07.230364Z",
     "start_time": "2025-09-14T00:45:07.199310Z"
    }
   },
   "cell_type": "code",
   "source": [
    "df.loc[df[\"Age\"] > 0, [\"student_id\"]] = df.index\n",
    "df[\"student_id\"] = df[\"student_id\"].astype(int)\n",
    "df_scores = df[[\"student_id\", \"Score\"]]\n",
    "df_scores.to_csv(\"../data/student_scores.csv\", index=False)\n",
    "\n",
    "# print(df)\n",
    "# print(df_scores)\n",
    "\n",
    "merged_df = pd.merge(df, df_scores, how=\"inner\", on=\"student_id\")\n",
    "merged_df.rename(columns={\"Score_x\": \"Score\"}, inplace=True)\n",
    "merged_df.drop([\"Score_y\"], axis=1, inplace=True)\n",
    "merged_df"
   ],
   "id": "9ab02a997894c6a6",
   "outputs": [
    {
     "data": {
      "text/plain": [
       "      Name  Age Grade  Score  student_id\n",
       "0    Alice   17     A   88.0           0\n",
       "1      Bob   19     B    NaN           1\n",
       "2  Charlie   18     A   91.0           2\n",
       "3    David   21     C   75.0           3\n",
       "4      Eva   20     B   84.0           4\n",
       "5    Frank   22     C   77.0           5\n",
       "6    Grace   17     A   93.0           6\n",
       "7    Heidi   23     C    NaN           7\n",
       "8     Ivan   19     B   86.0           8\n",
       "9     Judy   20     A   89.0           9"
      ],
      "text/html": [
       "<div>\n",
       "<style scoped>\n",
       "    .dataframe tbody tr th:only-of-type {\n",
       "        vertical-align: middle;\n",
       "    }\n",
       "\n",
       "    .dataframe tbody tr th {\n",
       "        vertical-align: top;\n",
       "    }\n",
       "\n",
       "    .dataframe thead th {\n",
       "        text-align: right;\n",
       "    }\n",
       "</style>\n",
       "<table border=\"1\" class=\"dataframe\">\n",
       "  <thead>\n",
       "    <tr style=\"text-align: right;\">\n",
       "      <th></th>\n",
       "      <th>Name</th>\n",
       "      <th>Age</th>\n",
       "      <th>Grade</th>\n",
       "      <th>Score</th>\n",
       "      <th>student_id</th>\n",
       "    </tr>\n",
       "  </thead>\n",
       "  <tbody>\n",
       "    <tr>\n",
       "      <th>0</th>\n",
       "      <td>Alice</td>\n",
       "      <td>17</td>\n",
       "      <td>A</td>\n",
       "      <td>88.0</td>\n",
       "      <td>0</td>\n",
       "    </tr>\n",
       "    <tr>\n",
       "      <th>1</th>\n",
       "      <td>Bob</td>\n",
       "      <td>19</td>\n",
       "      <td>B</td>\n",
       "      <td>NaN</td>\n",
       "      <td>1</td>\n",
       "    </tr>\n",
       "    <tr>\n",
       "      <th>2</th>\n",
       "      <td>Charlie</td>\n",
       "      <td>18</td>\n",
       "      <td>A</td>\n",
       "      <td>91.0</td>\n",
       "      <td>2</td>\n",
       "    </tr>\n",
       "    <tr>\n",
       "      <th>3</th>\n",
       "      <td>David</td>\n",
       "      <td>21</td>\n",
       "      <td>C</td>\n",
       "      <td>75.0</td>\n",
       "      <td>3</td>\n",
       "    </tr>\n",
       "    <tr>\n",
       "      <th>4</th>\n",
       "      <td>Eva</td>\n",
       "      <td>20</td>\n",
       "      <td>B</td>\n",
       "      <td>84.0</td>\n",
       "      <td>4</td>\n",
       "    </tr>\n",
       "    <tr>\n",
       "      <th>5</th>\n",
       "      <td>Frank</td>\n",
       "      <td>22</td>\n",
       "      <td>C</td>\n",
       "      <td>77.0</td>\n",
       "      <td>5</td>\n",
       "    </tr>\n",
       "    <tr>\n",
       "      <th>6</th>\n",
       "      <td>Grace</td>\n",
       "      <td>17</td>\n",
       "      <td>A</td>\n",
       "      <td>93.0</td>\n",
       "      <td>6</td>\n",
       "    </tr>\n",
       "    <tr>\n",
       "      <th>7</th>\n",
       "      <td>Heidi</td>\n",
       "      <td>23</td>\n",
       "      <td>C</td>\n",
       "      <td>NaN</td>\n",
       "      <td>7</td>\n",
       "    </tr>\n",
       "    <tr>\n",
       "      <th>8</th>\n",
       "      <td>Ivan</td>\n",
       "      <td>19</td>\n",
       "      <td>B</td>\n",
       "      <td>86.0</td>\n",
       "      <td>8</td>\n",
       "    </tr>\n",
       "    <tr>\n",
       "      <th>9</th>\n",
       "      <td>Judy</td>\n",
       "      <td>20</td>\n",
       "      <td>A</td>\n",
       "      <td>89.0</td>\n",
       "      <td>9</td>\n",
       "    </tr>\n",
       "  </tbody>\n",
       "</table>\n",
       "</div>"
      ]
     },
     "execution_count": 4,
     "metadata": {},
     "output_type": "execute_result"
    }
   ],
   "execution_count": 4
  },
  {
   "metadata": {},
   "cell_type": "markdown",
   "source": "### 3. Avg/mean/std and creating pivot tables (Counting/statistics)",
   "id": "88813caf690b87bf"
  },
  {
   "metadata": {
    "ExecuteTime": {
     "end_time": "2025-09-14T00:37:33.344280Z",
     "start_time": "2025-09-14T00:37:33.336973Z"
    }
   },
   "cell_type": "code",
   "source": [
    "print(f\"Average: {merged_df['Score'].mean()}\")\n",
    "print(f\"Median: {merged_df['Score'].median()}\")\n",
    "print(f\"Standard Deviation: {merged_df['Score'].std(ddof=0)}\")\n",
    "# NOTE - Research: standard deviation, IQR)\n"
   ],
   "id": "f9119bb6b5fb0d74",
   "outputs": [
    {
     "name": "stdout",
     "output_type": "stream",
     "text": [
      "Average: 83.54545454545455\n",
      "Median: 84.0\n",
      "Standard Deviation: 6.485839629722535\n"
     ]
    }
   ],
   "execution_count": 453
  },
  {
   "metadata": {
    "ExecuteTime": {
     "end_time": "2025-09-14T00:50:44.560088Z",
     "start_time": "2025-09-14T00:50:44.553240Z"
    }
   },
   "cell_type": "code",
   "source": [
    "merged_df.pivot_table(values='Score', index='Grade', aggfunc='count')\n",
    "# NOTE - exclude columns arg to display 2D data"
   ],
   "id": "72e27a25b8094714",
   "outputs": [
    {
     "data": {
      "text/plain": [
       "       Score\n",
       "Grade       \n",
       "A          4\n",
       "B          2\n",
       "C          2"
      ],
      "text/html": [
       "<div>\n",
       "<style scoped>\n",
       "    .dataframe tbody tr th:only-of-type {\n",
       "        vertical-align: middle;\n",
       "    }\n",
       "\n",
       "    .dataframe tbody tr th {\n",
       "        vertical-align: top;\n",
       "    }\n",
       "\n",
       "    .dataframe thead th {\n",
       "        text-align: right;\n",
       "    }\n",
       "</style>\n",
       "<table border=\"1\" class=\"dataframe\">\n",
       "  <thead>\n",
       "    <tr style=\"text-align: right;\">\n",
       "      <th></th>\n",
       "      <th>Score</th>\n",
       "    </tr>\n",
       "    <tr>\n",
       "      <th>Grade</th>\n",
       "      <th></th>\n",
       "    </tr>\n",
       "  </thead>\n",
       "  <tbody>\n",
       "    <tr>\n",
       "      <th>A</th>\n",
       "      <td>4</td>\n",
       "    </tr>\n",
       "    <tr>\n",
       "      <th>B</th>\n",
       "      <td>2</td>\n",
       "    </tr>\n",
       "    <tr>\n",
       "      <th>C</th>\n",
       "      <td>2</td>\n",
       "    </tr>\n",
       "  </tbody>\n",
       "</table>\n",
       "</div>"
      ]
     },
     "execution_count": 6,
     "metadata": {},
     "output_type": "execute_result"
    }
   ],
   "execution_count": 6
  },
  {
   "metadata": {
    "ExecuteTime": {
     "end_time": "2025-09-14T00:54:02.453378Z",
     "start_time": "2025-09-14T00:54:02.447447Z"
    }
   },
   "cell_type": "code",
   "source": [
    "# Same results using function to clean/create pivot from original df\n",
    "def count_grades(dataframe: pd.DataFrame, col_name: str) -> pd.DataFrame:\n",
    "    return dataframe.dropna()[[f\"{col_name}\"]].value_counts()\n",
    "\n",
    "count_grades(df, 'Grade')"
   ],
   "id": "ae2007fdfcee64bd",
   "outputs": [
    {
     "data": {
      "text/plain": [
       "Grade\n",
       "A        4\n",
       "B        2\n",
       "C        2\n",
       "Name: count, dtype: int64"
      ]
     },
     "execution_count": 12,
     "metadata": {},
     "output_type": "execute_result"
    }
   ],
   "execution_count": 12
  },
  {
   "metadata": {
    "ExecuteTime": {
     "end_time": "2025-09-14T00:50:58.070131Z",
     "start_time": "2025-09-14T00:50:58.056735Z"
    }
   },
   "cell_type": "code",
   "outputs": [
    {
     "data": {
      "text/plain": [
       "Age      17    18    19    20    21    22\n",
       "Grade                                    \n",
       "A      90.5  91.0   NaN  89.0   NaN   NaN\n",
       "B       NaN   NaN  86.0  84.0   NaN   NaN\n",
       "C       NaN   NaN   NaN   NaN  75.0  77.0"
      ],
      "text/html": [
       "<div>\n",
       "<style scoped>\n",
       "    .dataframe tbody tr th:only-of-type {\n",
       "        vertical-align: middle;\n",
       "    }\n",
       "\n",
       "    .dataframe tbody tr th {\n",
       "        vertical-align: top;\n",
       "    }\n",
       "\n",
       "    .dataframe thead th {\n",
       "        text-align: right;\n",
       "    }\n",
       "</style>\n",
       "<table border=\"1\" class=\"dataframe\">\n",
       "  <thead>\n",
       "    <tr style=\"text-align: right;\">\n",
       "      <th>Age</th>\n",
       "      <th>17</th>\n",
       "      <th>18</th>\n",
       "      <th>19</th>\n",
       "      <th>20</th>\n",
       "      <th>21</th>\n",
       "      <th>22</th>\n",
       "    </tr>\n",
       "    <tr>\n",
       "      <th>Grade</th>\n",
       "      <th></th>\n",
       "      <th></th>\n",
       "      <th></th>\n",
       "      <th></th>\n",
       "      <th></th>\n",
       "      <th></th>\n",
       "    </tr>\n",
       "  </thead>\n",
       "  <tbody>\n",
       "    <tr>\n",
       "      <th>A</th>\n",
       "      <td>90.5</td>\n",
       "      <td>91.0</td>\n",
       "      <td>NaN</td>\n",
       "      <td>89.0</td>\n",
       "      <td>NaN</td>\n",
       "      <td>NaN</td>\n",
       "    </tr>\n",
       "    <tr>\n",
       "      <th>B</th>\n",
       "      <td>NaN</td>\n",
       "      <td>NaN</td>\n",
       "      <td>86.0</td>\n",
       "      <td>84.0</td>\n",
       "      <td>NaN</td>\n",
       "      <td>NaN</td>\n",
       "    </tr>\n",
       "    <tr>\n",
       "      <th>C</th>\n",
       "      <td>NaN</td>\n",
       "      <td>NaN</td>\n",
       "      <td>NaN</td>\n",
       "      <td>NaN</td>\n",
       "      <td>75.0</td>\n",
       "      <td>77.0</td>\n",
       "    </tr>\n",
       "  </tbody>\n",
       "</table>\n",
       "</div>"
      ]
     },
     "execution_count": 7,
     "metadata": {},
     "output_type": "execute_result"
    }
   ],
   "execution_count": 7,
   "source": "merged_df.pivot_table(values='Score', index='Grade', columns='Age', aggfunc='mean')",
   "id": "fa9de5816767e091"
  },
  {
   "metadata": {},
   "cell_type": "markdown",
   "source": "### 4. Filter students over 18",
   "id": "8273ed81e04c4e38"
  },
  {
   "metadata": {
    "ExecuteTime": {
     "end_time": "2025-09-13T23:46:15.749796Z",
     "start_time": "2025-09-13T23:46:15.742211Z"
    }
   },
   "cell_type": "code",
   "source": [
    "above_18 = merged_df[merged_df['Age'] > 18]\n",
    "above_18"
   ],
   "id": "4d2f0eb411633b0a",
   "outputs": [
    {
     "data": {
      "text/plain": [
       "    Name  Age Grade  Score\n",
       "1    Bob   19     B    NaN\n",
       "3  David   21     C   75.0\n",
       "4    Eva   20     B   84.0\n",
       "5  Frank   22     C   77.0\n",
       "7  Heidi   23     C    NaN\n",
       "8   Ivan   19     B   86.0\n",
       "9   Judy   20     A   89.0"
      ],
      "text/html": [
       "<div>\n",
       "<style scoped>\n",
       "    .dataframe tbody tr th:only-of-type {\n",
       "        vertical-align: middle;\n",
       "    }\n",
       "\n",
       "    .dataframe tbody tr th {\n",
       "        vertical-align: top;\n",
       "    }\n",
       "\n",
       "    .dataframe thead th {\n",
       "        text-align: right;\n",
       "    }\n",
       "</style>\n",
       "<table border=\"1\" class=\"dataframe\">\n",
       "  <thead>\n",
       "    <tr style=\"text-align: right;\">\n",
       "      <th></th>\n",
       "      <th>Name</th>\n",
       "      <th>Age</th>\n",
       "      <th>Grade</th>\n",
       "      <th>Score</th>\n",
       "    </tr>\n",
       "  </thead>\n",
       "  <tbody>\n",
       "    <tr>\n",
       "      <th>1</th>\n",
       "      <td>Bob</td>\n",
       "      <td>19</td>\n",
       "      <td>B</td>\n",
       "      <td>NaN</td>\n",
       "    </tr>\n",
       "    <tr>\n",
       "      <th>3</th>\n",
       "      <td>David</td>\n",
       "      <td>21</td>\n",
       "      <td>C</td>\n",
       "      <td>75.0</td>\n",
       "    </tr>\n",
       "    <tr>\n",
       "      <th>4</th>\n",
       "      <td>Eva</td>\n",
       "      <td>20</td>\n",
       "      <td>B</td>\n",
       "      <td>84.0</td>\n",
       "    </tr>\n",
       "    <tr>\n",
       "      <th>5</th>\n",
       "      <td>Frank</td>\n",
       "      <td>22</td>\n",
       "      <td>C</td>\n",
       "      <td>77.0</td>\n",
       "    </tr>\n",
       "    <tr>\n",
       "      <th>7</th>\n",
       "      <td>Heidi</td>\n",
       "      <td>23</td>\n",
       "      <td>C</td>\n",
       "      <td>NaN</td>\n",
       "    </tr>\n",
       "    <tr>\n",
       "      <th>8</th>\n",
       "      <td>Ivan</td>\n",
       "      <td>19</td>\n",
       "      <td>B</td>\n",
       "      <td>86.0</td>\n",
       "    </tr>\n",
       "    <tr>\n",
       "      <th>9</th>\n",
       "      <td>Judy</td>\n",
       "      <td>20</td>\n",
       "      <td>A</td>\n",
       "      <td>89.0</td>\n",
       "    </tr>\n",
       "  </tbody>\n",
       "</table>\n",
       "</div>"
      ]
     },
     "execution_count": 405,
     "metadata": {},
     "output_type": "execute_result"
    }
   ],
   "execution_count": 405
  },
  {
   "metadata": {},
   "cell_type": "markdown",
   "source": "### 4b. Sort by grade descending",
   "id": "a6b6865bb454841b"
  },
  {
   "metadata": {
    "ExecuteTime": {
     "end_time": "2025-09-14T00:50:08.052445Z",
     "start_time": "2025-09-14T00:50:08.046167Z"
    }
   },
   "cell_type": "code",
   "source": [
    "merged_df.sort_values([\"Grade\"], ascending=True) # Ascending true because highest grade(\"A\") has the lowest ASCII value\n",
    "# NOTE - Inplace arg is the same as reassignment"
   ],
   "id": "82090da71235300b",
   "outputs": [
    {
     "data": {
      "text/plain": [
       "      Name  Age Grade  Score  student_id\n",
       "0    Alice   17     A   88.0           0\n",
       "2  Charlie   18     A   91.0           2\n",
       "6    Grace   17     A   93.0           6\n",
       "9     Judy   20     A   89.0           9\n",
       "1      Bob   19     B    NaN           1\n",
       "4      Eva   20     B   84.0           4\n",
       "8     Ivan   19     B   86.0           8\n",
       "3    David   21     C   75.0           3\n",
       "5    Frank   22     C   77.0           5\n",
       "7    Heidi   23     C    NaN           7"
      ],
      "text/html": [
       "<div>\n",
       "<style scoped>\n",
       "    .dataframe tbody tr th:only-of-type {\n",
       "        vertical-align: middle;\n",
       "    }\n",
       "\n",
       "    .dataframe tbody tr th {\n",
       "        vertical-align: top;\n",
       "    }\n",
       "\n",
       "    .dataframe thead th {\n",
       "        text-align: right;\n",
       "    }\n",
       "</style>\n",
       "<table border=\"1\" class=\"dataframe\">\n",
       "  <thead>\n",
       "    <tr style=\"text-align: right;\">\n",
       "      <th></th>\n",
       "      <th>Name</th>\n",
       "      <th>Age</th>\n",
       "      <th>Grade</th>\n",
       "      <th>Score</th>\n",
       "      <th>student_id</th>\n",
       "    </tr>\n",
       "  </thead>\n",
       "  <tbody>\n",
       "    <tr>\n",
       "      <th>0</th>\n",
       "      <td>Alice</td>\n",
       "      <td>17</td>\n",
       "      <td>A</td>\n",
       "      <td>88.0</td>\n",
       "      <td>0</td>\n",
       "    </tr>\n",
       "    <tr>\n",
       "      <th>2</th>\n",
       "      <td>Charlie</td>\n",
       "      <td>18</td>\n",
       "      <td>A</td>\n",
       "      <td>91.0</td>\n",
       "      <td>2</td>\n",
       "    </tr>\n",
       "    <tr>\n",
       "      <th>6</th>\n",
       "      <td>Grace</td>\n",
       "      <td>17</td>\n",
       "      <td>A</td>\n",
       "      <td>93.0</td>\n",
       "      <td>6</td>\n",
       "    </tr>\n",
       "    <tr>\n",
       "      <th>9</th>\n",
       "      <td>Judy</td>\n",
       "      <td>20</td>\n",
       "      <td>A</td>\n",
       "      <td>89.0</td>\n",
       "      <td>9</td>\n",
       "    </tr>\n",
       "    <tr>\n",
       "      <th>1</th>\n",
       "      <td>Bob</td>\n",
       "      <td>19</td>\n",
       "      <td>B</td>\n",
       "      <td>NaN</td>\n",
       "      <td>1</td>\n",
       "    </tr>\n",
       "    <tr>\n",
       "      <th>4</th>\n",
       "      <td>Eva</td>\n",
       "      <td>20</td>\n",
       "      <td>B</td>\n",
       "      <td>84.0</td>\n",
       "      <td>4</td>\n",
       "    </tr>\n",
       "    <tr>\n",
       "      <th>8</th>\n",
       "      <td>Ivan</td>\n",
       "      <td>19</td>\n",
       "      <td>B</td>\n",
       "      <td>86.0</td>\n",
       "      <td>8</td>\n",
       "    </tr>\n",
       "    <tr>\n",
       "      <th>3</th>\n",
       "      <td>David</td>\n",
       "      <td>21</td>\n",
       "      <td>C</td>\n",
       "      <td>75.0</td>\n",
       "      <td>3</td>\n",
       "    </tr>\n",
       "    <tr>\n",
       "      <th>5</th>\n",
       "      <td>Frank</td>\n",
       "      <td>22</td>\n",
       "      <td>C</td>\n",
       "      <td>77.0</td>\n",
       "      <td>5</td>\n",
       "    </tr>\n",
       "    <tr>\n",
       "      <th>7</th>\n",
       "      <td>Heidi</td>\n",
       "      <td>23</td>\n",
       "      <td>C</td>\n",
       "      <td>NaN</td>\n",
       "      <td>7</td>\n",
       "    </tr>\n",
       "  </tbody>\n",
       "</table>\n",
       "</div>"
      ]
     },
     "execution_count": 5,
     "metadata": {},
     "output_type": "execute_result"
    }
   ],
   "execution_count": 5
  },
  {
   "metadata": {},
   "cell_type": "markdown",
   "source": "### 5. Handle missing data",
   "id": "e4a76c92cb1d337e"
  },
  {
   "metadata": {
    "ExecuteTime": {
     "end_time": "2025-09-14T00:56:55.734788Z",
     "start_time": "2025-09-14T00:56:55.729937Z"
    }
   },
   "cell_type": "code",
   "source": [
    "merged_df.fillna({\"Score\": merged_df[\"Score\"].mean()}, inplace=True)\n",
    "merged_df.dropna(axis=0, how=\"any\", subset=[\"Grade\"], inplace=True)\n",
    "print(merged_df)"
   ],
   "id": "a555aceef39e4cac",
   "outputs": [
    {
     "name": "stdout",
     "output_type": "stream",
     "text": [
      "      Name  Age Grade   Score  student_id\n",
      "0    Alice   17     A  88.000           0\n",
      "1      Bob   19     B  85.375           1\n",
      "2  Charlie   18     A  91.000           2\n",
      "3    David   21     C  75.000           3\n",
      "4      Eva   20     B  84.000           4\n",
      "5    Frank   22     C  77.000           5\n",
      "6    Grace   17     A  93.000           6\n",
      "7    Heidi   23     C  85.375           7\n",
      "8     Ivan   19     B  86.000           8\n",
      "9     Judy   20     A  89.000           9\n"
     ]
    }
   ],
   "execution_count": 16
  },
  {
   "metadata": {
    "ExecuteTime": {
     "end_time": "2025-09-13T23:57:59.250039Z",
     "start_time": "2025-09-13T23:57:59.145328Z"
    }
   },
   "cell_type": "code",
   "source": [
    "df['Score'].plot.hist(\n",
    "    bins=6,               # Number of bins\n",
    "    alpha=0.7,            # Transparency (0 to 1)\n",
    "    color='skyblue',      # Bar color\n",
    "    edgecolor='black',    # Border color for bars\n",
    "    title='Score Distribution'  # Title of the plot\n",
    ")"
   ],
   "id": "4a745c8e61f69bf2",
   "outputs": [
    {
     "data": {
      "text/plain": [
       "<Axes: title={'center': 'Score Distribution'}, ylabel='Frequency'>"
      ]
     },
     "execution_count": 426,
     "metadata": {},
     "output_type": "execute_result"
    },
    {
     "data": {
      "text/plain": [
       "<Figure size 640x480 with 1 Axes>"
      ],
      "image/png": "[encoded data removed]"
     },
     "metadata": {},
     "output_type": "display_data",
     "jetTransient": {
      "display_id": null
     }
    }
   ],
   "execution_count": 426
  },
  {
   "metadata": {},
   "cell_type": "code",
   "outputs": [],
   "execution_count": null,
   "source": "",
   "id": "adee728f62089310"
  }
 ],
 "metadata": {
  "kernelspec": {
   "name": "python3",
   "language": "python",
   "display_name": "Python 3 (ipykernel)"
  }
 },
 "nbformat": 4,
 "nbformat_minor": 5
}
